{
 "cells": [
  {
   "cell_type": "code",
   "id": "initial_id",
   "metadata": {
    "collapsed": true,
    "ExecuteTime": {
     "end_time": "2024-12-14T15:24:35.406607Z",
     "start_time": "2024-12-14T15:24:35.366500Z"
    }
   },
   "source": "import json",
   "outputs": [],
   "execution_count": 5
  },
  {
   "metadata": {
    "ExecuteTime": {
     "end_time": "2024-12-14T15:25:13.580739Z",
     "start_time": "2024-12-14T15:25:13.323073Z"
    }
   },
   "cell_type": "code",
   "source": [
    "# Путь к JSON-файлам\n",
    "file1_path = '../data/cleaned/mash_news_cleaned.json'\n",
    "file2_path = '../data/cleaned/ria_news_cleaned.json'\n",
    "output_path = '../data/cleaned/combined_news.json'\n",
    "\n",
    "# Чтение данных из файлов\n",
    "with open(file1_path, 'r', encoding='utf-8') as file1, open(file2_path, 'r', encoding='utf-8') as file2:\n",
    "    data1 = json.load(file1)\n",
    "    data2 = json.load(file2)\n",
    "\n",
    "# Объединение данных\n",
    "combined_data = data1 + data2\n",
    "\n",
    "# Сохранение объединенных данных в новый файл\n",
    "with open(output_path, 'w', encoding='utf-8') as output_file:\n",
    "    json.dump(combined_data, output_file, ensure_ascii=False, indent=4)"
   ],
   "id": "390a57e193a35389",
   "outputs": [],
   "execution_count": 7
  },
  {
   "metadata": {},
   "cell_type": "code",
   "outputs": [],
   "execution_count": null,
   "source": "",
   "id": "d1d4a1c979c4d720"
  }
 ],
 "metadata": {
  "kernelspec": {
   "display_name": "Python 3",
   "language": "python",
   "name": "python3"
  },
  "language_info": {
   "codemirror_mode": {
    "name": "ipython",
    "version": 2
   },
   "file_extension": ".py",
   "mimetype": "text/x-python",
   "name": "python",
   "nbconvert_exporter": "python",
   "pygments_lexer": "ipython2",
   "version": "2.7.6"
  }
 },
 "nbformat": 4,
 "nbformat_minor": 5
}
