{
 "cells": [
  {
   "cell_type": "code",
   "id": "initial_id",
   "metadata": {
    "collapsed": true,
    "ExecuteTime": {
     "end_time": "2024-12-14T16:27:05.120483Z",
     "start_time": "2024-12-14T16:27:05.095921Z"
    }
   },
   "source": [
    "from openai import OpenAI\n",
    "import numpy as np\n",
    "import faiss\n",
    "import json\n",
    "from tqdm import tqdm"
   ],
   "outputs": [],
   "execution_count": 55
  },
  {
   "metadata": {
    "ExecuteTime": {
     "end_time": "2024-12-14T16:28:15.736903Z",
     "start_time": "2024-12-14T16:28:15.703101Z"
    }
   },
   "cell_type": "code",
   "source": "api_key = \"API-key\"",
   "id": "3ecd2251184b1abd",
   "outputs": [],
   "execution_count": 59
  },
  {
   "metadata": {
    "ExecuteTime": {
     "end_time": "2024-12-14T16:37:34.006582Z",
     "start_time": "2024-12-14T16:37:33.964322Z"
    }
   },
   "cell_type": "code",
   "source": [
    "# Шаг 1: Функция для генерации эмбеддингов через OpenAI API\n",
    "def generate_openai_embeddings(texts, model=\"text-embedding-ada-002\", batch_size=10):\n",
    "    embeddings = []\n",
    "    client = OpenAI(\n",
    "        api_key=api_key\n",
    "    )\n",
    "    for i in tqdm(range(0, len(texts), batch_size), desc=\"Генерация эмбеддингов\"):\n",
    "        batch_texts = texts[i:i + batch_size]\n",
    "        response = client.embeddings.create(\n",
    "            input=batch_texts,\n",
    "            model=model\n",
    "        )\n",
    "        batch_embeddings = [embedding.embedding for embedding in response.data]\n",
    "        embeddings.extend(batch_embeddings)\n",
    "    return np.array(embeddings)"
   ],
   "id": "8fbf4df39a6dda6c",
   "outputs": [],
   "execution_count": 66
  },
  {
   "metadata": {
    "ExecuteTime": {
     "end_time": "2024-12-14T16:37:36.792486Z",
     "start_time": "2024-12-14T16:37:36.630982Z"
    }
   },
   "cell_type": "code",
   "source": [
    "# Шаг 2: Загрузка данных\n",
    "json_file_path = '../data/cleaned/combined_news.json'\n",
    "faiss_index_path = '../data/cleaned/news_faiss_openai.index'\n",
    "\n",
    "with open(json_file_path, 'r', encoding='utf-8') as file:\n",
    "    news_data = json.load(file)\n",
    "\n",
    "texts = [item['text'] for item in news_data]\n",
    "metadata = [{'datetime': item['datetime'], 'link': item['link']} for item in news_data]"
   ],
   "id": "158ebff132908aec",
   "outputs": [],
   "execution_count": 67
  },
  {
   "metadata": {
    "ExecuteTime": {
     "end_time": "2024-12-14T16:51:57.088559Z",
     "start_time": "2024-12-14T16:37:36.996208Z"
    }
   },
   "cell_type": "code",
   "source": [
    "# Шаг 3: Генерация эмбеддингов с помощью OpenAI\n",
    "embeddings = generate_openai_embeddings(texts, model=\"text-embedding-ada-002\")"
   ],
   "id": "4b5e5f4465269b7f",
   "outputs": [
    {
     "name": "stderr",
     "output_type": "stream",
     "text": [
      "Генерация эмбеддингов: 100%|██████████| 1121/1121 [14:17<00:00,  1.31it/s]\n"
     ]
    }
   ],
   "execution_count": 68
  },
  {
   "metadata": {
    "ExecuteTime": {
     "end_time": "2024-12-14T17:01:52.236994Z",
     "start_time": "2024-12-14T17:01:51.966724Z"
    }
   },
   "cell_type": "code",
   "source": [
    "# Шаг 4: Нормализация эмбеддингов (для косинусной схожести)\n",
    "def normalize_embeddings(embeddings):\n",
    "    norms = np.linalg.norm(embeddings, axis=1, keepdims=True)\n",
    "    return embeddings / norms\n",
    "\n",
    "normalized_embeddings = normalize_embeddings(embeddings)"
   ],
   "id": "d414d2ebed08d720",
   "outputs": [],
   "execution_count": 69
  },
  {
   "metadata": {
    "ExecuteTime": {
     "end_time": "2024-12-14T17:01:54.359773Z",
     "start_time": "2024-12-14T17:01:54.209771Z"
    }
   },
   "cell_type": "code",
   "source": [
    "# Шаг 5: Создание FAISS-индекса\n",
    "dimension = normalized_embeddings.shape[1]\n",
    "index = faiss.IndexFlatIP(dimension)  # Inner Product для косинусной схожести\n",
    "index.add(normalized_embeddings)"
   ],
   "id": "e9ad2860268df347",
   "outputs": [],
   "execution_count": 70
  },
  {
   "metadata": {
    "ExecuteTime": {
     "end_time": "2024-12-14T17:02:03.725899Z",
     "start_time": "2024-12-14T17:02:02.715390Z"
    }
   },
   "cell_type": "code",
   "source": [
    "# Шаг 6: Сохранение индекса и метаданных\n",
    "faiss.write_index(index, faiss_index_path)\n",
    "with open('../data/cleaned/news_metadata.json', 'w', encoding='utf-8') as metadata_file:\n",
    "    json.dump(metadata, metadata_file, ensure_ascii=False, indent=4)\n",
    "\n",
    "print(f'Индекс сохранен в {faiss_index_path}')\n",
    "print('Метаданные сохранены в data/cleaned/news_metadata.json')"
   ],
   "id": "bbbe45e9ba2925a7",
   "outputs": [
    {
     "name": "stdout",
     "output_type": "stream",
     "text": [
      "Индекс сохранен в ../data/cleaned/news_faiss_openai.index\n",
      "Метаданные сохранены в data/cleaned/news_metadata.json\n"
     ]
    }
   ],
   "execution_count": 72
  },
  {
   "metadata": {
    "ExecuteTime": {
     "end_time": "2024-12-14T17:12:03.823088Z",
     "start_time": "2024-12-14T17:12:02.532981Z"
    }
   },
   "cell_type": "code",
   "source": [
    "def search_faiss_with_openai(query, model, index, metadata, top_k=5):\n",
    "    # Генерация эмбеддинга для запроса через OpenAI\n",
    "    client = OpenAI(\n",
    "        api_key=api_key\n",
    "    )\n",
    "    response = client.embeddings.create(\n",
    "            input=query,\n",
    "            model=model\n",
    "        )\n",
    "\n",
    "    query_embedding = [embedding.embedding for embedding in response.data]\n",
    "    \n",
    "    # Нормализация эмбеддинга запроса\n",
    "    query_embedding = normalize_embeddings(query_embedding)\n",
    "    \n",
    "    # Поиск в FAISS\n",
    "    distances, indices = index.search(query_embedding, top_k)\n",
    "    \n",
    "    # Формирование результатов\n",
    "    results = []\n",
    "    for idx in indices[0]:\n",
    "        if idx != -1:\n",
    "            results.append({\n",
    "                'text': texts[idx],  # Извлекаем текст\n",
    "                'datetime': metadata[idx]['datetime'],  # Метаданные: дата\n",
    "                'link': metadata[idx]['link']  # Метаданные: ссылка\n",
    "            })\n",
    "    return results\n",
    "\n",
    "# Пример запроса\n",
    "query = \"новости из зоопарка\"\n",
    "results = search_faiss_with_openai(query, \"text-embedding-ada-002\", index, metadata)\n",
    "\n",
    "# Вывод результатов\n",
    "for res in results:\n",
    "    print(f\"Текст: {res['text']}\")\n",
    "    print(f\"Дата: {res['datetime']}\")\n",
    "    print(f\"Ссылка: {res['link']}\")\n",
    "    print(\"-\" * 50)"
   ],
   "id": "5aa26d2fb4ebff0b",
   "outputs": [
    {
     "name": "stdout",
     "output_type": "stream",
     "text": [
      "Текст: Самым просматриваемым животным на онлайн-трансляциях Московского зоопарка стала панда Катюша.Об этом рассказал заместитель гендира Московского зоопарка по зоологическим вопросам Суслов.С 30 сентября на сайте мэра и правительства Москвы можно наблюдать за обитателями зоопарка, трансляция ведется в часы его работы.\n",
      "Дата: None\n",
      "Ссылка: https://t.me/rian_ru/265376\n",
      "--------------------------------------------------\n",
      "Текст: Ленинградский зоопарк публикует новые кадры из жизниродившегосяв мае 2023 года манула Шу, который готовится к зиме и продолжает активную зажировку\n",
      "Дата: None\n",
      "Ссылка: https://t.me/rian_ru/264987\n",
      "--------------------------------------------------\n",
      "Текст: Обвиняемый в краже кенгуру из ярославского зоопарка арестован, передает корреспондент РИА Новости из суда\n",
      "Дата: 04-10-2024 09:54:00\n",
      "Ссылка: https://t.me/rian_ru/263956\n",
      "--------------------------------------------------\n",
      "Текст: Полиция нашла львенка в пригороде Ростова-на-Дону, его привезли в местный зоопарк.Малышу примерно два месяца от роду, он внешне здоров, игрив и бодр. Вероятно, его использовали или только собирались для заработка на фото.В зоопарке призвали жителей не поддерживать \"горе-коммерсантов\", которые незаконно покупают диких животных.\n",
      "Дата: None\n",
      "Ссылка: https://t.me/rian_ru/267092\n",
      "--------------------------------------------------\n",
      "Текст: Носух вам в ленту, дорогие подписчики. В Пермском зоопарке драма. Родили две самки. Одна обычная, другая диктатор. Доминатрикс отобрала у подружки детёнышей, но ресурсы не рассчитала. Выкормить сразу десятерых не смогла.Половину новорождённых у дамочки забрали зоологи. Теперь у пушистых вместо материнского молока козье. А ещё каши, мясо, овощи и фрукты.Занимательный факт лодыжки носух вращаются на 180 градусов. Не знаем, зачем вам эта информация, но пусть будет. Подписывайся на Mash\n",
      "Дата: None\n",
      "Ссылка: https://t.me/breakingmash/55249\n",
      "--------------------------------------------------\n"
     ]
    }
   ],
   "execution_count": 78
  },
  {
   "metadata": {},
   "cell_type": "code",
   "outputs": [],
   "execution_count": null,
   "source": "",
   "id": "3a05f0d2bdb950cb"
  }
 ],
 "metadata": {
  "kernelspec": {
   "display_name": "Python 3",
   "language": "python",
   "name": "python3"
  },
  "language_info": {
   "codemirror_mode": {
    "name": "ipython",
    "version": 2
   },
   "file_extension": ".py",
   "mimetype": "text/x-python",
   "name": "python",
   "nbconvert_exporter": "python",
   "pygments_lexer": "ipython2",
   "version": "2.7.6"
  }
 },
 "nbformat": 4,
 "nbformat_minor": 5
}
